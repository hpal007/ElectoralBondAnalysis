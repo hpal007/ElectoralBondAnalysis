{
 "cells": [
  {
   "cell_type": "code",
   "execution_count": 12,
   "id": "5795750e-b4a7-4b64-95df-c82eb995817b",
   "metadata": {},
   "outputs": [
    {
     "name": "stdout",
     "output_type": "stream",
     "text": [
      "Requirement already satisfied: pandas in h:\\interview practice\\env\\lib\\site-packages (2.2.1)\n",
      "Requirement already satisfied: tzdata>=2022.7 in h:\\interview practice\\env\\lib\\site-packages (from pandas) (2024.1)\n",
      "Requirement already satisfied: python-dateutil>=2.8.2 in h:\\interview practice\\env\\lib\\site-packages (from pandas) (2.8.2)\n",
      "Requirement already satisfied: numpy<2,>=1.22.4 in h:\\interview practice\\env\\lib\\site-packages (from pandas) (1.26.4)\n",
      "Requirement already satisfied: pytz>=2020.1 in h:\\interview practice\\env\\lib\\site-packages (from pandas) (2024.1)\n",
      "Requirement already satisfied: six>=1.5 in h:\\interview practice\\env\\lib\\site-packages (from python-dateutil>=2.8.2->pandas) (1.16.0)\n"
     ]
    },
    {
     "name": "stderr",
     "output_type": "stream",
     "text": [
      "WARNING: You are using pip version 22.0.4; however, version 24.0 is available.\n",
      "You should consider upgrading via the 'H:\\Interview Practice\\env\\Scripts\\python.exe -m pip install --upgrade pip' command.\n"
     ]
    }
   ],
   "source": [
    "!pip install pandas\n",
    "!pip install tabula-py"
   ]
  },
  {
   "cell_type": "code",
   "execution_count": 64,
   "id": "a1c28c42-a781-4e70-b7f8-5d9e0742c5ae",
   "metadata": {},
   "outputs": [
    {
     "name": "stderr",
     "output_type": "stream",
     "text": [
      "The output file is empty.\n"
     ]
    }
   ],
   "source": [
    "import pandas as pd\n",
    "import tabula\n",
    "import json\n",
    "\n",
    "# Path to the input PDF file\n",
    "pdf_file = \"electoral_bonds/electoral_bond_party.pdf\"\n",
    "\n",
    "# Output CSV file path\n",
    "json_file = \"electoral_bond_party.json\"\n",
    "\n",
    "# Extract tables from the PDF file\n",
    "tables = tabula.read_pdf(input_path= pdf_file,format ='JSON',output_path=json_file, pages='all', multiple_tables=True)\n",
    "\n",
    "# Read JSON data from file\n",
    "with open(json_file, 'r') as file:\n",
    "    json_data = json.load(file)\n",
    "# Extract cell values and organize into rows\n",
    "rows = []\n",
    "for entry in json_data:\n",
    "    for row in entry[\"data\"]:\n",
    "        row_data = [cell[\"text\"] for cell in row]\n",
    "        rows.append(row_data)\n",
    "\n",
    "# Create DataFrame from rows\n",
    "df_party = pd.DataFrame(rows)\n",
    "df_party.to_csv(\"electrol_bond_party.csv\")\n"
   ]
  },
  {
   "cell_type": "code",
   "execution_count": 76,
   "id": "a9a2af8a-21c4-40cc-b7ac-a6078a0d8120",
   "metadata": {},
   "outputs": [
    {
     "name": "stderr",
     "output_type": "stream",
     "text": [
      "The output file is empty.\n"
     ]
    }
   ],
   "source": [
    "# Path to the input PDF file\n",
    "pdf_file = \"electoral_bonds/electoral_bond_company.pdf\"\n",
    "\n",
    "# Output CSV file path\n",
    "json_file = \"electoral_bond_company.json\"\n",
    "\n",
    "# Extract tables from the PDF file\n",
    "tables = tabula.read_pdf(input_path= pdf_file,format ='JSON',output_path=json_file, pages='all', multiple_tables=True)\n",
    "\n",
    "# Read JSON data from file\n",
    "with open(json_file, 'r') as file:\n",
    "    json_data = json.load(file)\n",
    "# Extract cell values and organize into rows\n",
    "rows = []\n",
    "for entry in json_data:\n",
    "    for row in entry[\"data\"]:\n",
    "        row_data = [cell[\"text\"] for cell in row]\n",
    "        rows.append(row_data)\n",
    "\n",
    "# Create DataFrame from rows\n",
    "df_company = pd.DataFrame(rows)\n",
    "df_company.to_csv(\"electrol_bond_company.csv\")"
   ]
  }
 ],
 "metadata": {
  "kernelspec": {
   "display_name": "Python 3 (ipykernel)",
   "language": "python",
   "name": "python3"
  },
  "language_info": {
   "codemirror_mode": {
    "name": "ipython",
    "version": 3
   },
   "file_extension": ".py",
   "mimetype": "text/x-python",
   "name": "python",
   "nbconvert_exporter": "python",
   "pygments_lexer": "ipython3",
   "version": "3.10.4"
  }
 },
 "nbformat": 4,
 "nbformat_minor": 5
}
